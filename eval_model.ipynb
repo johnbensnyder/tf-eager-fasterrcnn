{
 "cells": [
  {
   "cell_type": "code",
   "execution_count": 1,
   "metadata": {},
   "outputs": [],
   "source": [
    "import os\n",
    "import json\n",
    "import tensorflow as tf\n",
    "import numpy as np\n",
    "from pycocotools.cocoeval import COCOeval\n",
    "\n",
    "from detection.datasets import coco, data_generator\n",
    "from detection.models.detectors import faster_rcnn"
   ]
  },
  {
   "cell_type": "code",
   "execution_count": 2,
   "metadata": {},
   "outputs": [],
   "source": [
    "os.environ['CUDA_VISIBLE_DEVICES'] = '0'"
   ]
  },
  {
   "cell_type": "code",
   "execution_count": 3,
   "metadata": {},
   "outputs": [
    {
     "name": "stdout",
     "output_type": "stream",
     "text": [
      "loading annotations into memory...\n",
      "Done (t=0.60s)\n",
      "creating index...\n",
      "index created!\n",
      "4952\n"
     ]
    }
   ],
   "source": [
    "img_mean = (123.675, 116.28, 103.53)\n",
    "# img_std = (58.395, 57.12, 57.375)\n",
    "img_std = (1., 1., 1.)\n",
    "\n",
    "val_dataset = coco.CocoDataSet('/workspace/shared_workspace/data/coco/', 'val',\n",
    "                               flip_ratio=0,\n",
    "                               pad_mode='fixed',\n",
    "                               mean=img_mean,\n",
    "                               std=img_std,\n",
    "                               scale=(800, 1216))\n",
    "print(len(val_dataset))\n",
    "\n",
    "\n",
    "model = faster_rcnn.FasterRCNN(\n",
    "    num_classes=len(val_dataset.get_categories()))\n",
    "\n",
    "\n",
    "img, img_meta, bboxes, labels = val_dataset[0]\n",
    "batch_imgs = tf.Variable(np.expand_dims(img, 0))\n",
    "batch_metas = tf.Variable(np.expand_dims(img_meta, 0))\n",
    "model.layers[0].trainable=False\n",
    "_ = model((batch_imgs, batch_metas), training=False)\n",
    "\n"
   ]
  },
  {
   "cell_type": "code",
   "execution_count": 5,
   "metadata": {},
   "outputs": [],
   "source": [
    "model.load_weights('/workspace/shared_workspace/tf-eager-fasterrcnn/rcnn101_sgdw_training_epoch_1.h5', by_name=True)"
   ]
  },
  {
   "cell_type": "code",
   "execution_count": null,
   "metadata": {},
   "outputs": [
    {
     "name": "stdout",
     "output_type": "stream",
     "text": [
      "0\n",
      "100\n",
      "200\n",
      "300\n",
      "400\n",
      "500\n",
      "600\n",
      "700\n",
      "800\n",
      "900\n",
      "1000\n",
      "1100\n",
      "1200\n",
      "1300\n",
      "1400\n",
      "1500\n",
      "1600\n",
      "1700\n",
      "1800\n",
      "1900\n",
      "2000\n",
      "2100\n",
      "2200\n",
      "2300\n",
      "2400\n",
      "2500\n",
      "2600\n",
      "2700\n"
     ]
    }
   ],
   "source": [
    "batch_size = 1\n",
    "\n",
    "dataset_results = []\n",
    "imgIds = []\n",
    "for idx in range(len(val_dataset)):\n",
    "    if idx % 100 == 0:\n",
    "        print(idx)\n",
    "\n",
    "    img, img_meta, _, _ = val_dataset[idx]\n",
    "\n",
    "    proposals = model.simple_test_rpn(img, img_meta)\n",
    "    res = model.simple_test_bboxes(img, img_meta, proposals)\n",
    "    \n",
    "    image_id = val_dataset.img_ids[idx]\n",
    "    imgIds.append(image_id)\n",
    "    \n",
    "    for pos in range(res['class_ids'].shape[0]):\n",
    "        results = dict()\n",
    "        results['score'] = float(res['scores'][pos])\n",
    "        results['category_id'] = int(res['class_ids'][pos])\n",
    "        y1, x1, y2, x2 = [float(num) for num in list(res['rois'][pos])]\n",
    "        results['bbox'] = [x1, y1, x2 - x1 + 1, y2 - y1 + 1]\n",
    "        results['image_id'] = image_id\n",
    "        dataset_results.append(results)"
   ]
  },
  {
   "cell_type": "code",
   "execution_count": null,
   "metadata": {},
   "outputs": [],
   "source": [
    "with open('coco_val2017_detection_result.json', 'w') as f:\n",
    "    f.write(json.dumps(dataset_results))"
   ]
  },
  {
   "cell_type": "code",
   "execution_count": 6,
   "metadata": {},
   "outputs": [
    {
     "name": "stdout",
     "output_type": "stream",
     "text": [
      "Loading and preparing results...\n",
      "DONE (t=0.90s)\n",
      "creating index...\n",
      "index created!\n"
     ]
    }
   ],
   "source": [
    "coco_dt = val_dataset.coco.loadRes('coco_val2017_detection_result.json')"
   ]
  },
  {
   "cell_type": "code",
   "execution_count": 7,
   "metadata": {},
   "outputs": [],
   "source": [
    "cocoEval = COCOeval(val_dataset.coco, coco_dt, 'bbox')"
   ]
  },
  {
   "cell_type": "code",
   "execution_count": 8,
   "metadata": {},
   "outputs": [],
   "source": [
    "cocoEval.params.imgIds = imgIds"
   ]
  },
  {
   "cell_type": "code",
   "execution_count": 9,
   "metadata": {},
   "outputs": [
    {
     "name": "stdout",
     "output_type": "stream",
     "text": [
      "Running per image evaluation...\n",
      "Evaluate annotation type *bbox*\n",
      "DONE (t=17.52s).\n",
      "Accumulating evaluation results...\n",
      "DONE (t=2.73s).\n",
      " Average Precision  (AP) @[ IoU=0.50:0.95 | area=   all | maxDets=100 ] = 0.057\n",
      " Average Precision  (AP) @[ IoU=0.50      | area=   all | maxDets=100 ] = 0.090\n",
      " Average Precision  (AP) @[ IoU=0.75      | area=   all | maxDets=100 ] = 0.060\n",
      " Average Precision  (AP) @[ IoU=0.50:0.95 | area= small | maxDets=100 ] = 0.037\n",
      " Average Precision  (AP) @[ IoU=0.50:0.95 | area=medium | maxDets=100 ] = 0.057\n",
      " Average Precision  (AP) @[ IoU=0.50:0.95 | area= large | maxDets=100 ] = 0.076\n",
      " Average Recall     (AR) @[ IoU=0.50:0.95 | area=   all | maxDets=  1 ] = 0.045\n",
      " Average Recall     (AR) @[ IoU=0.50:0.95 | area=   all | maxDets= 10 ] = 0.070\n",
      " Average Recall     (AR) @[ IoU=0.50:0.95 | area=   all | maxDets=100 ] = 0.072\n",
      " Average Recall     (AR) @[ IoU=0.50:0.95 | area= small | maxDets=100 ] = 0.051\n",
      " Average Recall     (AR) @[ IoU=0.50:0.95 | area=medium | maxDets=100 ] = 0.075\n",
      " Average Recall     (AR) @[ IoU=0.50:0.95 | area= large | maxDets=100 ] = 0.095\n"
     ]
    }
   ],
   "source": [
    "cocoEval.evaluate()\n",
    "cocoEval.accumulate()\n",
    "cocoEval.summarize()"
   ]
  }
 ],
 "metadata": {
  "kernelspec": {
   "display_name": "Python 3",
   "language": "python",
   "name": "python3"
  },
  "language_info": {
   "codemirror_mode": {
    "name": "ipython",
    "version": 3
   },
   "file_extension": ".py",
   "mimetype": "text/x-python",
   "name": "python",
   "nbconvert_exporter": "python",
   "pygments_lexer": "ipython3",
   "version": "3.6.9"
  }
 },
 "nbformat": 4,
 "nbformat_minor": 4
}
